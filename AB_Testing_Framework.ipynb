{
  "nbformat": 4,
  "nbformat_minor": 0,
  "metadata": {
    "colab": {
      "private_outputs": true,
      "provenance": []
    },
    "kernelspec": {
      "name": "python3",
      "display_name": "Python 3"
    },
    "language_info": {
      "name": "python"
    }
  },
  "cells": [
    {
      "cell_type": "code",
      "execution_count": null,
      "metadata": {
        "id": "FKKNCZhnplcd"
      },
      "outputs": [],
      "source": [
        "import pandas as pd\n",
        "import numpy as np"
      ]
    },
    {
      "cell_type": "code",
      "source": [
        "#simulate a 100 users\n",
        "n = 1000\n",
        "\n",
        "#randomly assigning members to group A and group B\n",
        "group = np.random.choice(['A', 'B'], size = n)"
      ],
      "metadata": {
        "id": "OZ0FFWu8q9vB"
      },
      "execution_count": null,
      "outputs": []
    },
    {
      "cell_type": "code",
      "source": [
        "#building a dataframe, assigning unique IDs to each user\n",
        "data = pd.DataFrame({\n",
        "    'user_ID' : range(1, n+1),\n",
        "    'group' : group\n",
        "})\n",
        "\n",
        "data.head()"
      ],
      "metadata": {
        "id": "bGQAzBp0soYB"
      },
      "execution_count": null,
      "outputs": []
    },
    {
      "cell_type": "code",
      "source": [
        "#did the user convert ie bought something -> True\n",
        "#did the user not convert ie did not buy anything -> False\n",
        "np.random.rand()\n",
        "#generates probability between 0 and 1"
      ],
      "metadata": {
        "id": "LVtaOh6ntjSM"
      },
      "execution_count": null,
      "outputs": []
    },
    {
      "cell_type": "code",
      "source": [
        "#pretend each user visited a webpage\n",
        "#user A converts 10% of the time\n",
        "#user B converts 12% of the time\n",
        "def simulate_conversion(group):\n",
        "  if group == 'A':\n",
        "    return np.random.rand() < 0.10\n",
        "  else:\n",
        "    return np.random.rand() < 0.12"
      ],
      "metadata": {
        "id": "wXWpjhfLvIvR"
      },
      "execution_count": null,
      "outputs": []
    },
    {
      "cell_type": "code",
      "source": [
        "#applying conversion to all the users\n",
        "data['conversion'] = data['group'].apply(simulate_conversion)\n",
        "data.head()"
      ],
      "metadata": {
        "id": "fxNzt1ICxdwJ"
      },
      "execution_count": null,
      "outputs": []
    },
    {
      "cell_type": "code",
      "source": [
        "#calculating conversion rates\n",
        "conversion_rates = data.groupby('group')['conversion'].mean()\n",
        "#groups users by 'group'\n",
        "#calculates the mean of convrted column\n",
        "print(conversion_rates)"
      ],
      "metadata": {
        "id": "CYE4J_MixlbN"
      },
      "execution_count": null,
      "outputs": []
    },
    {
      "cell_type": "code",
      "source": [
        "group_a = data[data['group'] == 'A']\n",
        "group_b = data[data['group'] == 'B']\n",
        "\n",
        "conversions_a = group_a['conversion'].sum()\n",
        "conversions_b = group_b['conversion'].sum()\n",
        "\n",
        "n_a = len(group_a)\n",
        "n_b = len(group_b)\n",
        "\n",
        "p1 = conversions_a/n_a\n",
        "p2 = conversions_b/n_b\n",
        "\n",
        "p = (conversions_a + conversions_b) / (n_b + n_a)\n",
        "\n",
        "se = ((p * (1-p)) * (1/n_a + 1/n_b)) ** 0.5\n",
        "\n",
        "z = (p1 - p2) / se\n",
        "\n",
        "print(f\"Z-statistics: {z:.3f}\")"
      ],
      "metadata": {
        "id": "fSR_P69Qyqi4"
      },
      "execution_count": null,
      "outputs": []
    },
    {
      "cell_type": "code",
      "source": [
        "from math import erf, sqrt\n",
        "\n",
        "# CDF of standard normal using error function\n",
        "def normal_cdf(z):\n",
        "    return (1 + erf(z / sqrt(2))) / 2\n",
        "\n",
        "# Compute p-value\n",
        "p_value = 2 * (1 - normal_cdf(abs(z)))\n",
        "print(f\"P-value: {p_value:.5f}\")"
      ],
      "metadata": {
        "id": "7MD4GIAx2nmC"
      },
      "execution_count": null,
      "outputs": []
    },
    {
      "cell_type": "code",
      "source": [],
      "metadata": {
        "id": "fr8ZMHuz24Ug"
      },
      "execution_count": null,
      "outputs": []
    }
  ]
}