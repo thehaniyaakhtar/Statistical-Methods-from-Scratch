{
  "nbformat": 4,
  "nbformat_minor": 0,
  "metadata": {
    "colab": {
      "private_outputs": true,
      "provenance": []
    },
    "kernelspec": {
      "name": "python3",
      "display_name": "Python 3"
    },
    "language_info": {
      "name": "python"
    }
  },
  "cells": [
    {
      "cell_type": "code",
      "execution_count": null,
      "metadata": {
        "id": "6LxVKgIYdwAu"
      },
      "outputs": [],
      "source": [
        "#Chi Square Test of independence\n",
        "#check if there is significant relationship between 2 categorical variables"
      ]
    },
    {
      "cell_type": "code",
      "source": [
        "#Store oobserved values\n",
        "observed = [\n",
        "    [20, 40],\n",
        "    [30, 40]\n",
        "]"
      ],
      "metadata": {
        "id": "vF80bJSajc-C"
      },
      "execution_count": null,
      "outputs": []
    },
    {
      "cell_type": "code",
      "source": [
        "print(\"Observed table:\", observed)\n",
        "print(\"Type:\", type(observed))"
      ],
      "metadata": {
        "id": "-R2DRq6UKGg4"
      },
      "execution_count": null,
      "outputs": []
    },
    {
      "cell_type": "code",
      "source": [
        "row_total = [sum(row) for row in observed]\n",
        "col_total = [sum(col) for col in zip(*observed)]\n",
        "grand_total = sum(row_total)"
      ],
      "metadata": {
        "id": "iTjeNy5ljnIK"
      },
      "execution_count": null,
      "outputs": []
    },
    {
      "cell_type": "code",
      "source": [
        "print(\"Observed table:\", observed)\n",
        "print(\"Type:\", type(observed))"
      ],
      "metadata": {
        "id": "fLuxDSiBKJ7F"
      },
      "execution_count": null,
      "outputs": []
    },
    {
      "cell_type": "code",
      "source": [
        "#expected values\n",
        "expected = []\n",
        "\n",
        "for i in range(len(observed)):\n",
        "  row = []\n",
        "  for j in range(len(observed[0])):\n",
        "    exp = (row_total[i] * col_total[j]) / grand_total\n",
        "\n",
        "    row.append(exp)\n",
        "  expected.append(row)\n",
        "\n",
        "print(\"Expected Values\")\n",
        "for r in expected:\n",
        "  print(r)"
      ],
      "metadata": {
        "id": "KeVXYYHukL-n"
      },
      "execution_count": null,
      "outputs": []
    },
    {
      "cell_type": "code",
      "source": [
        "print(\"Observed table:\", observed)\n",
        "print(\"Type:\", type(observed))"
      ],
      "metadata": {
        "id": "TiaFgu1-KOPo"
      },
      "execution_count": null,
      "outputs": []
    },
    {
      "cell_type": "code",
      "source": [
        "#((obs - exp) ** 2) / exp\n",
        "chi_square = 0\n",
        "\n",
        "for i in range(len(observed)):\n",
        "  for j in range(len(observed[0])):\n",
        "    obs = observed[i][j]\n",
        "    exp = expected[i][j]\n",
        "    chi_square += ((obs - exp) ** 2)/exp\n",
        "\n",
        "print(\"Chi-Square Value\", chi_square)"
      ],
      "metadata": {
        "id": "j9rrPrwjl32B"
      },
      "execution_count": null,
      "outputs": []
    },
    {
      "cell_type": "code",
      "source": [
        "rows = len(observed)\n",
        "cols = len(observed[0])\n",
        "chi = (rows - 1)*(cols - 1)"
      ],
      "metadata": {
        "id": "lpx6SJX7tZNK"
      },
      "execution_count": null,
      "outputs": []
    },
    {
      "cell_type": "code",
      "source": [
        "#printing critical value\n",
        "from scipy.stats import chi2\n",
        "\n",
        "alpha = 0.05\n",
        "critical_val = chi2.ppf(1-alpha, chi)"
      ],
      "metadata": {
        "id": "J1GVr0ViLHfA"
      },
      "execution_count": null,
      "outputs": []
    },
    {
      "cell_type": "code",
      "source": [
        "#printing p-value\n",
        "from scipy.stats import chi2\n",
        "\n",
        "p_value = 1 - chi2.cdf(chi_square, chi)\n",
        "print(\"P-value: \", p_value)"
      ],
      "metadata": {
        "id": "ktG8t0huMLnp"
      },
      "execution_count": null,
      "outputs": []
    },
    {
      "cell_type": "code",
      "source": [
        "print(\"Chi Square: \", chi_square)\n",
        "print(\"Critical Value\", critical_val)"
      ],
      "metadata": {
        "id": "x48DXr6VLoAf"
      },
      "execution_count": null,
      "outputs": []
    },
    {
      "cell_type": "code",
      "source": [
        "if chi_square > critical_val:\n",
        "    print(\"Reject the null hypothesis — significant relationship.\")\n",
        "else:\n",
        "    print(\"Fail to reject the null hypothesis — no significant relationship.\")\n"
      ],
      "metadata": {
        "id": "-HILTrvJL9rX"
      },
      "execution_count": null,
      "outputs": []
    }
  ]
}