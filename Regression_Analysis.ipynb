{
  "nbformat": 4,
  "nbformat_minor": 0,
  "metadata": {
    "colab": {
      "private_outputs": true,
      "provenance": []
    },
    "kernelspec": {
      "name": "python3",
      "display_name": "Python 3"
    },
    "language_info": {
      "name": "python"
    }
  },
  "cells": [
    {
      "cell_type": "code",
      "source": [
        "# Open file with with open(...) as f\n",
        "# Read each line\n",
        "# Use .strip() and .split(',')\n",
        "# Convert to float and store in X and Y lists\n",
        "X = []\n",
        "Y = []\n",
        "\n",
        "with open(\"data.csv\", \"r\") as f:\n",
        "  for line in f:\n",
        "    line = line.strip(\"\\n\")\n",
        "\n",
        "    X_str, Y_str = line.split(\",\")\n",
        "\n",
        "    x_val = float(X_str)\n",
        "    y_val = float(Y_str)\n",
        "\n",
        "    X.append(x_val)\n",
        "    Y.append(y_val)\n",
        "\n",
        "print(X)\n",
        "print(Y)"
      ],
      "metadata": {
        "id": "b7xZuJAimtJl"
      },
      "execution_count": null,
      "outputs": []
    },
    {
      "cell_type": "code",
      "source": [
        "m = 0\n",
        "c = 0\n",
        "alpha = 0.01\n",
        "epoch = 1000\n",
        "\n",
        "\n",
        "for i in range(epoch):\n",
        "  Y_hat = []\n",
        "  for x in X:\n",
        "    y_hat = m * x + c\n",
        "    Y_hat.append(y_hat)\n",
        "\n",
        "  mse = 0\n",
        "  for y, y_hat in zip(Y, Y_hat):\n",
        "      error = y - y_hat\n",
        "      mse += error ** 2\n",
        "  mse = mse/len(Y)\n",
        "\n",
        "  dm_sum = 0\n",
        "  dc_sum = 0\n",
        "  for x, y, y_hat in zip(X, Y, Y_hat):\n",
        "      error = y - y_hat\n",
        "      dm_sum += error * x\n",
        "      dc_sum += error\n",
        "\n",
        "  dm = -2 * dm_sum / len(X)\n",
        "  dc = -2 * dc_sum / len(X)\n",
        "\n",
        "  m = m - alpha * dm\n",
        "  c = c - alpha * dc"
      ],
      "metadata": {
        "id": "1VoKWxiOwQcN"
      },
      "execution_count": null,
      "outputs": []
    },
    {
      "cell_type": "code",
      "source": [
        "print(f\"Epoch {i+1} : MSE = {mse}\")"
      ],
      "metadata": {
        "id": "N8B4K_z1wrHe"
      },
      "execution_count": null,
      "outputs": []
    },
    {
      "cell_type": "code",
      "source": [],
      "metadata": {
        "id": "4gmChsjF6m3H"
      },
      "execution_count": null,
      "outputs": []
    }
  ]
}